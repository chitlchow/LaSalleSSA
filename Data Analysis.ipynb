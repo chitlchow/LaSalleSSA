{
 "cells": [
  {
   "cell_type": "markdown",
   "metadata": {},
   "source": [
    "## Sample Data from CLP"
   ]
  },
  {
   "cell_type": "markdown",
   "metadata": {},
   "source": [
    "This jupyter notebook will walk you through the data analysis process for the CLP data. We will use pandas with its dataframe object to conduct the analysis. "
   ]
  },
  {
   "cell_type": "code",
   "execution_count": 1,
   "metadata": {},
   "outputs": [],
   "source": [
    "import pandas as pd\n",
    "import matplotlib.pyplot as plt\n"
   ]
  },
  {
   "cell_type": "code",
   "execution_count": 2,
   "metadata": {},
   "outputs": [
    {
     "output_type": "execute_result",
     "data": {
      "text/plain": [
       "          orgName       zoneName sensorType     recDate   recTime  reading  \\\n",
       "0  CLP Innovation  Classroom 101   Lighting  2020-11-15  00:00:00     1.22   \n",
       "1  CLP Innovation  Classroom 101   Lighting  2020-11-15  00:30:00     1.20   \n",
       "2  CLP Innovation  Classroom 101   Lighting  2020-11-15  01:00:00     1.21   \n",
       "3  CLP Innovation  Classroom 101   Lighting  2020-11-15  01:30:00     1.21   \n",
       "4  CLP Innovation  Classroom 101   Lighting  2020-11-15  02:00:00     1.20   \n",
       "\n",
       "  unit  \n",
       "0   Wh  \n",
       "1   Wh  \n",
       "2   Wh  \n",
       "3   Wh  \n",
       "4   Wh  "
      ],
      "text/html": "<div>\n<style scoped>\n    .dataframe tbody tr th:only-of-type {\n        vertical-align: middle;\n    }\n\n    .dataframe tbody tr th {\n        vertical-align: top;\n    }\n\n    .dataframe thead th {\n        text-align: right;\n    }\n</style>\n<table border=\"1\" class=\"dataframe\">\n  <thead>\n    <tr style=\"text-align: right;\">\n      <th></th>\n      <th>orgName</th>\n      <th>zoneName</th>\n      <th>sensorType</th>\n      <th>recDate</th>\n      <th>recTime</th>\n      <th>reading</th>\n      <th>unit</th>\n    </tr>\n  </thead>\n  <tbody>\n    <tr>\n      <th>0</th>\n      <td>CLP Innovation</td>\n      <td>Classroom 101</td>\n      <td>Lighting</td>\n      <td>2020-11-15</td>\n      <td>00:00:00</td>\n      <td>1.22</td>\n      <td>Wh</td>\n    </tr>\n    <tr>\n      <th>1</th>\n      <td>CLP Innovation</td>\n      <td>Classroom 101</td>\n      <td>Lighting</td>\n      <td>2020-11-15</td>\n      <td>00:30:00</td>\n      <td>1.20</td>\n      <td>Wh</td>\n    </tr>\n    <tr>\n      <th>2</th>\n      <td>CLP Innovation</td>\n      <td>Classroom 101</td>\n      <td>Lighting</td>\n      <td>2020-11-15</td>\n      <td>01:00:00</td>\n      <td>1.21</td>\n      <td>Wh</td>\n    </tr>\n    <tr>\n      <th>3</th>\n      <td>CLP Innovation</td>\n      <td>Classroom 101</td>\n      <td>Lighting</td>\n      <td>2020-11-15</td>\n      <td>01:30:00</td>\n      <td>1.21</td>\n      <td>Wh</td>\n    </tr>\n    <tr>\n      <th>4</th>\n      <td>CLP Innovation</td>\n      <td>Classroom 101</td>\n      <td>Lighting</td>\n      <td>2020-11-15</td>\n      <td>02:00:00</td>\n      <td>1.20</td>\n      <td>Wh</td>\n    </tr>\n  </tbody>\n</table>\n</div>"
     },
     "metadata": {},
     "execution_count": 2
    }
   ],
   "source": [
    "dataframe = pd.read_csv('dataset.csv')\n",
    "dataframe.head()\n"
   ]
  },
  {
   "cell_type": "code",
   "execution_count": 3,
   "metadata": {},
   "outputs": [
    {
     "output_type": "stream",
     "name": "stdout",
     "text": [
      "orgName: ['CLP Innovation']\nzoneName: ['Classroom 101' 'Classroom 102' 'Classroom 103' 'Classroom 104' 'Other'\n 'STEM Room' 'Server Room' 'Townhall']\nsensorType: ['Lighting' 'Socket' 'Fan' 'Exhaust Fan' 'Printer' 'Solar Panel'\n 'Air Conditioning' 'Server' 'Projector']\nrecDate: ['2020-11-15' '2020-11-16' '2020-11-17' '2020-11-18' '2020-11-19'\n '2020-11-20' '2020-11-21' '2020-11-22']\nrecTime: ['00:00:00' '00:30:00' '01:00:00' '01:30:00' '02:00:00' '02:30:00'\n '03:00:00' '03:30:00' '04:00:00' '04:30:00' '05:00:00' '05:30:00'\n '06:00:00' '06:30:00' '07:00:00' '07:30:00' '08:00:00' '08:30:00'\n '09:00:00' '09:30:00' '10:00:00' '10:30:00' '11:00:00' '11:30:00'\n '12:00:00' '12:30:00' '13:00:00' '13:30:00' '14:00:00' '14:30:00'\n '15:00:00' '15:30:00' '16:00:00' '16:30:00' '17:00:00' '17:30:00'\n '18:00:00' '18:30:00' '19:00:00' '19:30:00' '20:00:00' '20:30:00'\n '21:00:00' '21:30:00' '22:00:00' '22:30:00' '23:00:00' '23:30:00']\nreading: [ 1.22  1.2   1.21 ... 53.27 53.25 53.28]\nunit: ['Wh']\n"
     ]
    }
   ],
   "source": [
    "# Check for each unique values\n",
    "for col in dataframe.columns:\n",
    "    print(col + ':' ,dataframe[col].unique())"
   ]
  },
  {
   "cell_type": "markdown",
   "metadata": {},
   "source": [
    "## Drop all the useless columns "
   ]
  },
  {
   "cell_type": "code",
   "execution_count": 4,
   "metadata": {},
   "outputs": [],
   "source": [
    "dataframe = dataframe.drop(columns=['orgName', 'unit'])"
   ]
  },
  {
   "cell_type": "code",
   "execution_count": 5,
   "metadata": {},
   "outputs": [
    {
     "output_type": "execute_result",
     "data": {
      "text/plain": [
       "           zoneName sensorType     recDate   recTime  reading\n",
       "0     Classroom 101   Lighting  2020-11-15  00:00:00     1.22\n",
       "1     Classroom 101   Lighting  2020-11-15  00:30:00     1.20\n",
       "2     Classroom 101   Lighting  2020-11-15  01:00:00     1.21\n",
       "3     Classroom 101   Lighting  2020-11-15  01:30:00     1.21\n",
       "4     Classroom 101   Lighting  2020-11-15  02:00:00     1.20\n",
       "...             ...        ...         ...       ...      ...\n",
       "9595       Townhall     Socket  2020-11-22  21:30:00    53.26\n",
       "9596       Townhall     Socket  2020-11-22  22:00:00    53.25\n",
       "9597       Townhall     Socket  2020-11-22  22:30:00    53.29\n",
       "9598       Townhall     Socket  2020-11-22  23:00:00    53.28\n",
       "9599       Townhall     Socket  2020-11-22  23:30:00    53.27\n",
       "\n",
       "[9600 rows x 5 columns]"
      ],
      "text/html": "<div>\n<style scoped>\n    .dataframe tbody tr th:only-of-type {\n        vertical-align: middle;\n    }\n\n    .dataframe tbody tr th {\n        vertical-align: top;\n    }\n\n    .dataframe thead th {\n        text-align: right;\n    }\n</style>\n<table border=\"1\" class=\"dataframe\">\n  <thead>\n    <tr style=\"text-align: right;\">\n      <th></th>\n      <th>zoneName</th>\n      <th>sensorType</th>\n      <th>recDate</th>\n      <th>recTime</th>\n      <th>reading</th>\n    </tr>\n  </thead>\n  <tbody>\n    <tr>\n      <th>0</th>\n      <td>Classroom 101</td>\n      <td>Lighting</td>\n      <td>2020-11-15</td>\n      <td>00:00:00</td>\n      <td>1.22</td>\n    </tr>\n    <tr>\n      <th>1</th>\n      <td>Classroom 101</td>\n      <td>Lighting</td>\n      <td>2020-11-15</td>\n      <td>00:30:00</td>\n      <td>1.20</td>\n    </tr>\n    <tr>\n      <th>2</th>\n      <td>Classroom 101</td>\n      <td>Lighting</td>\n      <td>2020-11-15</td>\n      <td>01:00:00</td>\n      <td>1.21</td>\n    </tr>\n    <tr>\n      <th>3</th>\n      <td>Classroom 101</td>\n      <td>Lighting</td>\n      <td>2020-11-15</td>\n      <td>01:30:00</td>\n      <td>1.21</td>\n    </tr>\n    <tr>\n      <th>4</th>\n      <td>Classroom 101</td>\n      <td>Lighting</td>\n      <td>2020-11-15</td>\n      <td>02:00:00</td>\n      <td>1.20</td>\n    </tr>\n    <tr>\n      <th>...</th>\n      <td>...</td>\n      <td>...</td>\n      <td>...</td>\n      <td>...</td>\n      <td>...</td>\n    </tr>\n    <tr>\n      <th>9595</th>\n      <td>Townhall</td>\n      <td>Socket</td>\n      <td>2020-11-22</td>\n      <td>21:30:00</td>\n      <td>53.26</td>\n    </tr>\n    <tr>\n      <th>9596</th>\n      <td>Townhall</td>\n      <td>Socket</td>\n      <td>2020-11-22</td>\n      <td>22:00:00</td>\n      <td>53.25</td>\n    </tr>\n    <tr>\n      <th>9597</th>\n      <td>Townhall</td>\n      <td>Socket</td>\n      <td>2020-11-22</td>\n      <td>22:30:00</td>\n      <td>53.29</td>\n    </tr>\n    <tr>\n      <th>9598</th>\n      <td>Townhall</td>\n      <td>Socket</td>\n      <td>2020-11-22</td>\n      <td>23:00:00</td>\n      <td>53.28</td>\n    </tr>\n    <tr>\n      <th>9599</th>\n      <td>Townhall</td>\n      <td>Socket</td>\n      <td>2020-11-22</td>\n      <td>23:30:00</td>\n      <td>53.27</td>\n    </tr>\n  </tbody>\n</table>\n<p>9600 rows × 5 columns</p>\n</div>"
     },
     "metadata": {},
     "execution_count": 5
    }
   ],
   "source": [
    "dataframe"
   ]
  },
  {
   "cell_type": "code",
   "execution_count": 6,
   "metadata": {},
   "outputs": [
    {
     "output_type": "execute_result",
     "data": {
      "text/plain": [
       "                 reading                                                \\\n",
       "                   count       mean        std    min      25%     50%   \n",
       "sensorType                                                               \n",
       "Air Conditioning   768.0  76.392461  50.801892   0.00  44.9350  91.825   \n",
       "Exhaust Fan        384.0  21.770130  37.108184   8.14   8.6275  17.270   \n",
       "Fan               1536.0  10.267526  22.523935   0.00   0.0000   1.030   \n",
       "Lighting          2688.0  27.459624  42.705093   0.00   0.7700   9.420   \n",
       "Printer            384.0   6.633359  11.053966   0.64   0.7900   1.020   \n",
       "Projector          384.0   1.184245  15.244361   0.10   0.1100   0.110   \n",
       "Server             384.0  39.655625   1.461522  37.08  38.4700  38.620   \n",
       "Socket            2688.0  39.034461  34.359831   2.92  11.3100  28.520   \n",
       "Solar Panel        384.0   0.000000   0.000000   0.00   0.0000   0.000   \n",
       "\n",
       "                                    \n",
       "                       75%     max  \n",
       "sensorType                          \n",
       "Air Conditioning  122.8500  127.16  \n",
       "Exhaust Fan        17.5000  341.84  \n",
       "Fan                 6.7100  142.79  \n",
       "Lighting           36.8000  157.41  \n",
       "Printer             6.9325  132.80  \n",
       "Projector           0.1100  252.85  \n",
       "Server             41.5000   42.85  \n",
       "Socket             54.7000  253.33  \n",
       "Solar Panel         0.0000    0.00  "
      ],
      "text/html": "<div>\n<style scoped>\n    .dataframe tbody tr th:only-of-type {\n        vertical-align: middle;\n    }\n\n    .dataframe tbody tr th {\n        vertical-align: top;\n    }\n\n    .dataframe thead tr th {\n        text-align: left;\n    }\n\n    .dataframe thead tr:last-of-type th {\n        text-align: right;\n    }\n</style>\n<table border=\"1\" class=\"dataframe\">\n  <thead>\n    <tr>\n      <th></th>\n      <th colspan=\"8\" halign=\"left\">reading</th>\n    </tr>\n    <tr>\n      <th></th>\n      <th>count</th>\n      <th>mean</th>\n      <th>std</th>\n      <th>min</th>\n      <th>25%</th>\n      <th>50%</th>\n      <th>75%</th>\n      <th>max</th>\n    </tr>\n    <tr>\n      <th>sensorType</th>\n      <th></th>\n      <th></th>\n      <th></th>\n      <th></th>\n      <th></th>\n      <th></th>\n      <th></th>\n      <th></th>\n    </tr>\n  </thead>\n  <tbody>\n    <tr>\n      <th>Air Conditioning</th>\n      <td>768.0</td>\n      <td>76.392461</td>\n      <td>50.801892</td>\n      <td>0.00</td>\n      <td>44.9350</td>\n      <td>91.825</td>\n      <td>122.8500</td>\n      <td>127.16</td>\n    </tr>\n    <tr>\n      <th>Exhaust Fan</th>\n      <td>384.0</td>\n      <td>21.770130</td>\n      <td>37.108184</td>\n      <td>8.14</td>\n      <td>8.6275</td>\n      <td>17.270</td>\n      <td>17.5000</td>\n      <td>341.84</td>\n    </tr>\n    <tr>\n      <th>Fan</th>\n      <td>1536.0</td>\n      <td>10.267526</td>\n      <td>22.523935</td>\n      <td>0.00</td>\n      <td>0.0000</td>\n      <td>1.030</td>\n      <td>6.7100</td>\n      <td>142.79</td>\n    </tr>\n    <tr>\n      <th>Lighting</th>\n      <td>2688.0</td>\n      <td>27.459624</td>\n      <td>42.705093</td>\n      <td>0.00</td>\n      <td>0.7700</td>\n      <td>9.420</td>\n      <td>36.8000</td>\n      <td>157.41</td>\n    </tr>\n    <tr>\n      <th>Printer</th>\n      <td>384.0</td>\n      <td>6.633359</td>\n      <td>11.053966</td>\n      <td>0.64</td>\n      <td>0.7900</td>\n      <td>1.020</td>\n      <td>6.9325</td>\n      <td>132.80</td>\n    </tr>\n    <tr>\n      <th>Projector</th>\n      <td>384.0</td>\n      <td>1.184245</td>\n      <td>15.244361</td>\n      <td>0.10</td>\n      <td>0.1100</td>\n      <td>0.110</td>\n      <td>0.1100</td>\n      <td>252.85</td>\n    </tr>\n    <tr>\n      <th>Server</th>\n      <td>384.0</td>\n      <td>39.655625</td>\n      <td>1.461522</td>\n      <td>37.08</td>\n      <td>38.4700</td>\n      <td>38.620</td>\n      <td>41.5000</td>\n      <td>42.85</td>\n    </tr>\n    <tr>\n      <th>Socket</th>\n      <td>2688.0</td>\n      <td>39.034461</td>\n      <td>34.359831</td>\n      <td>2.92</td>\n      <td>11.3100</td>\n      <td>28.520</td>\n      <td>54.7000</td>\n      <td>253.33</td>\n    </tr>\n    <tr>\n      <th>Solar Panel</th>\n      <td>384.0</td>\n      <td>0.000000</td>\n      <td>0.000000</td>\n      <td>0.00</td>\n      <td>0.0000</td>\n      <td>0.000</td>\n      <td>0.0000</td>\n      <td>0.00</td>\n    </tr>\n  </tbody>\n</table>\n</div>"
     },
     "metadata": {},
     "execution_count": 6
    }
   ],
   "source": [
    "dataframe.groupby('zoneName').describe()\n",
    "dataframe.groupby('sensorType').describe()"
   ]
  },
  {
   "cell_type": "code",
   "execution_count": 7,
   "metadata": {},
   "outputs": [],
   "source": [
    "## extracting data that zoneName == 'Townhall'\n",
    "\n",
    "townhall = dataframe[dataframe['zoneName'] == 'Townhall']"
   ]
  },
  {
   "cell_type": "code",
   "execution_count": 8,
   "metadata": {},
   "outputs": [
    {
     "output_type": "execute_result",
     "data": {
      "text/plain": [
       "      zoneName        sensorType     recDate   recTime  reading\n",
       "0     Townhall  Air Conditioning  2020-11-15  00:00:00     0.00\n",
       "1     Townhall  Air Conditioning  2020-11-15  00:30:00     0.00\n",
       "2     Townhall  Air Conditioning  2020-11-15  01:00:00     0.00\n",
       "3     Townhall  Air Conditioning  2020-11-15  01:30:00     0.00\n",
       "4     Townhall  Air Conditioning  2020-11-15  02:00:00     0.00\n",
       "...        ...               ...         ...       ...      ...\n",
       "1531  Townhall            Socket  2020-11-22  21:30:00    53.26\n",
       "1532  Townhall            Socket  2020-11-22  22:00:00    53.25\n",
       "1533  Townhall            Socket  2020-11-22  22:30:00    53.29\n",
       "1534  Townhall            Socket  2020-11-22  23:00:00    53.28\n",
       "1535  Townhall            Socket  2020-11-22  23:30:00    53.27\n",
       "\n",
       "[1536 rows x 5 columns]"
      ],
      "text/html": "<div>\n<style scoped>\n    .dataframe tbody tr th:only-of-type {\n        vertical-align: middle;\n    }\n\n    .dataframe tbody tr th {\n        vertical-align: top;\n    }\n\n    .dataframe thead th {\n        text-align: right;\n    }\n</style>\n<table border=\"1\" class=\"dataframe\">\n  <thead>\n    <tr style=\"text-align: right;\">\n      <th></th>\n      <th>zoneName</th>\n      <th>sensorType</th>\n      <th>recDate</th>\n      <th>recTime</th>\n      <th>reading</th>\n    </tr>\n  </thead>\n  <tbody>\n    <tr>\n      <th>0</th>\n      <td>Townhall</td>\n      <td>Air Conditioning</td>\n      <td>2020-11-15</td>\n      <td>00:00:00</td>\n      <td>0.00</td>\n    </tr>\n    <tr>\n      <th>1</th>\n      <td>Townhall</td>\n      <td>Air Conditioning</td>\n      <td>2020-11-15</td>\n      <td>00:30:00</td>\n      <td>0.00</td>\n    </tr>\n    <tr>\n      <th>2</th>\n      <td>Townhall</td>\n      <td>Air Conditioning</td>\n      <td>2020-11-15</td>\n      <td>01:00:00</td>\n      <td>0.00</td>\n    </tr>\n    <tr>\n      <th>3</th>\n      <td>Townhall</td>\n      <td>Air Conditioning</td>\n      <td>2020-11-15</td>\n      <td>01:30:00</td>\n      <td>0.00</td>\n    </tr>\n    <tr>\n      <th>4</th>\n      <td>Townhall</td>\n      <td>Air Conditioning</td>\n      <td>2020-11-15</td>\n      <td>02:00:00</td>\n      <td>0.00</td>\n    </tr>\n    <tr>\n      <th>...</th>\n      <td>...</td>\n      <td>...</td>\n      <td>...</td>\n      <td>...</td>\n      <td>...</td>\n    </tr>\n    <tr>\n      <th>1531</th>\n      <td>Townhall</td>\n      <td>Socket</td>\n      <td>2020-11-22</td>\n      <td>21:30:00</td>\n      <td>53.26</td>\n    </tr>\n    <tr>\n      <th>1532</th>\n      <td>Townhall</td>\n      <td>Socket</td>\n      <td>2020-11-22</td>\n      <td>22:00:00</td>\n      <td>53.25</td>\n    </tr>\n    <tr>\n      <th>1533</th>\n      <td>Townhall</td>\n      <td>Socket</td>\n      <td>2020-11-22</td>\n      <td>22:30:00</td>\n      <td>53.29</td>\n    </tr>\n    <tr>\n      <th>1534</th>\n      <td>Townhall</td>\n      <td>Socket</td>\n      <td>2020-11-22</td>\n      <td>23:00:00</td>\n      <td>53.28</td>\n    </tr>\n    <tr>\n      <th>1535</th>\n      <td>Townhall</td>\n      <td>Socket</td>\n      <td>2020-11-22</td>\n      <td>23:30:00</td>\n      <td>53.27</td>\n    </tr>\n  </tbody>\n</table>\n<p>1536 rows × 5 columns</p>\n</div>"
     },
     "metadata": {},
     "execution_count": 8
    }
   ],
   "source": [
    "townhall = townhall.reset_index().drop(columns='index')\n",
    "townhall"
   ]
  },
  {
   "cell_type": "code",
   "execution_count": 9,
   "metadata": {},
   "outputs": [
    {
     "output_type": "execute_result",
     "data": {
      "text/plain": [
       "datetime.datetime(2020, 11, 15, 1, 30)"
      ]
     },
     "metadata": {},
     "execution_count": 9
    }
   ],
   "source": [
    "from datetime import datetime\n",
    "\n",
    "datetime.strptime(townhall['recDate'][3]+townhall['recTime'][3], '%Y-%m-%d%H:%M:%S')"
   ]
  },
  {
   "cell_type": "code",
   "execution_count": 10,
   "metadata": {},
   "outputs": [],
   "source": [
    "townhall_socket = townhall[townhall['sensorType'] == 'Socket']\n"
   ]
  },
  {
   "cell_type": "code",
   "execution_count": 11,
   "metadata": {},
   "outputs": [],
   "source": [
    "def changeDatetime(rec_datetime):\n",
    "    return datetime.strptime(rec_datetime, '%Y-%m-%d%H:%M:%S')"
   ]
  },
  {
   "cell_type": "code",
   "execution_count": 12,
   "metadata": {},
   "outputs": [],
   "source": [
    "townhall_socket['date and time'] = townhall['recDate'] + townhall['recTime']"
   ]
  },
  {
   "cell_type": "code",
   "execution_count": 13,
   "metadata": {},
   "outputs": [],
   "source": [
    "townhall_socket['date and time'] = townhall_socket['date and time'].apply(changeDatetime)"
   ]
  },
  {
   "cell_type": "code",
   "execution_count": 14,
   "metadata": {},
   "outputs": [],
   "source": [
    "townhall_socket = townhall_socket.drop(columns=['recDate', 'recTime'])"
   ]
  },
  {
   "cell_type": "code",
   "execution_count": 15,
   "metadata": {
    "scrolled": true
   },
   "outputs": [
    {
     "output_type": "execute_result",
     "data": {
      "text/plain": [
       "      zoneName sensorType  reading       date and time\n",
       "1152  Townhall     Socket    53.66 2020-11-15 00:00:00\n",
       "1153  Townhall     Socket    53.61 2020-11-15 00:30:00\n",
       "1154  Townhall     Socket    53.60 2020-11-15 01:00:00\n",
       "1155  Townhall     Socket    53.61 2020-11-15 01:30:00\n",
       "1156  Townhall     Socket    53.62 2020-11-15 02:00:00\n",
       "...        ...        ...      ...                 ...\n",
       "1531  Townhall     Socket    53.26 2020-11-22 21:30:00\n",
       "1532  Townhall     Socket    53.25 2020-11-22 22:00:00\n",
       "1533  Townhall     Socket    53.29 2020-11-22 22:30:00\n",
       "1534  Townhall     Socket    53.28 2020-11-22 23:00:00\n",
       "1535  Townhall     Socket    53.27 2020-11-22 23:30:00\n",
       "\n",
       "[384 rows x 4 columns]"
      ],
      "text/html": "<div>\n<style scoped>\n    .dataframe tbody tr th:only-of-type {\n        vertical-align: middle;\n    }\n\n    .dataframe tbody tr th {\n        vertical-align: top;\n    }\n\n    .dataframe thead th {\n        text-align: right;\n    }\n</style>\n<table border=\"1\" class=\"dataframe\">\n  <thead>\n    <tr style=\"text-align: right;\">\n      <th></th>\n      <th>zoneName</th>\n      <th>sensorType</th>\n      <th>reading</th>\n      <th>date and time</th>\n    </tr>\n  </thead>\n  <tbody>\n    <tr>\n      <th>1152</th>\n      <td>Townhall</td>\n      <td>Socket</td>\n      <td>53.66</td>\n      <td>2020-11-15 00:00:00</td>\n    </tr>\n    <tr>\n      <th>1153</th>\n      <td>Townhall</td>\n      <td>Socket</td>\n      <td>53.61</td>\n      <td>2020-11-15 00:30:00</td>\n    </tr>\n    <tr>\n      <th>1154</th>\n      <td>Townhall</td>\n      <td>Socket</td>\n      <td>53.60</td>\n      <td>2020-11-15 01:00:00</td>\n    </tr>\n    <tr>\n      <th>1155</th>\n      <td>Townhall</td>\n      <td>Socket</td>\n      <td>53.61</td>\n      <td>2020-11-15 01:30:00</td>\n    </tr>\n    <tr>\n      <th>1156</th>\n      <td>Townhall</td>\n      <td>Socket</td>\n      <td>53.62</td>\n      <td>2020-11-15 02:00:00</td>\n    </tr>\n    <tr>\n      <th>...</th>\n      <td>...</td>\n      <td>...</td>\n      <td>...</td>\n      <td>...</td>\n    </tr>\n    <tr>\n      <th>1531</th>\n      <td>Townhall</td>\n      <td>Socket</td>\n      <td>53.26</td>\n      <td>2020-11-22 21:30:00</td>\n    </tr>\n    <tr>\n      <th>1532</th>\n      <td>Townhall</td>\n      <td>Socket</td>\n      <td>53.25</td>\n      <td>2020-11-22 22:00:00</td>\n    </tr>\n    <tr>\n      <th>1533</th>\n      <td>Townhall</td>\n      <td>Socket</td>\n      <td>53.29</td>\n      <td>2020-11-22 22:30:00</td>\n    </tr>\n    <tr>\n      <th>1534</th>\n      <td>Townhall</td>\n      <td>Socket</td>\n      <td>53.28</td>\n      <td>2020-11-22 23:00:00</td>\n    </tr>\n    <tr>\n      <th>1535</th>\n      <td>Townhall</td>\n      <td>Socket</td>\n      <td>53.27</td>\n      <td>2020-11-22 23:30:00</td>\n    </tr>\n  </tbody>\n</table>\n<p>384 rows × 4 columns</p>\n</div>"
     },
     "metadata": {},
     "execution_count": 15
    }
   ],
   "source": [
    "townhall_socket"
   ]
  },
  {
   "cell_type": "code",
   "execution_count": 16,
   "metadata": {},
   "outputs": [],
   "source": [
    "%matplotlib inline"
   ]
  },
  {
   "cell_type": "code",
   "execution_count": 17,
   "metadata": {},
   "outputs": [
    {
     "output_type": "execute_result",
     "data": {
      "text/plain": [
       "[<matplotlib.lines.Line2D at 0x1e016993a30>]"
      ]
     },
     "metadata": {},
     "execution_count": 17
    },
    {
     "output_type": "display_data",
     "data": {
      "text/plain": "<Figure size 432x288 with 1 Axes>",
      "image/svg+xml": "<?xml version=\"1.0\" encoding=\"utf-8\" standalone=\"no\"?>\r\n<!DOCTYPE svg PUBLIC \"-//W3C//DTD SVG 1.1//EN\"\r\n  \"http://www.w3.org/Graphics/SVG/1.1/DTD/svg11.dtd\">\r\n<!-- Created with matplotlib (https://matplotlib.org/) -->\r\n<svg height=\"248.518125pt\" version=\"1.1\" viewBox=\"0 0 383.559314 248.518125\" width=\"383.559314pt\" xmlns=\"http://www.w3.org/2000/svg\" xmlns:xlink=\"http://www.w3.org/1999/xlink\">\r\n <defs>\r\n  <style type=\"text/css\">\r\n*{stroke-linecap:butt;stroke-linejoin:round;}\r\n  </style>\r\n </defs>\r\n <g id=\"figure_1\">\r\n  <g id=\"patch_1\">\r\n   <path d=\"M -0 248.518125 \r\nL 383.559314 248.518125 \r\nL 383.559314 0 \r\nL -0 0 \r\nz\r\n\" style=\"fill:none;\"/>\r\n  </g>\r\n  <g id=\"axes_1\">\r\n   <g id=\"patch_2\">\r\n    <path d=\"M 26.925 224.64 \r\nL 361.725 224.64 \r\nL 361.725 7.2 \r\nL 26.925 7.2 \r\nz\r\n\" style=\"fill:#ffffff;\"/>\r\n   </g>\r\n   <g id=\"matplotlib.axis_1\">\r\n    <g id=\"xtick_1\">\r\n     <g id=\"line2d_1\">\r\n      <defs>\r\n       <path d=\"M 0 0 \r\nL 0 3.5 \r\n\" id=\"mf3cd859ba0\" style=\"stroke:#000000;stroke-width:0.8;\"/>\r\n      </defs>\r\n      <g>\r\n       <use style=\"stroke:#000000;stroke-width:0.8;\" x=\"42.143182\" xlink:href=\"#mf3cd859ba0\" y=\"224.64\"/>\r\n      </g>\r\n     </g>\r\n     <g id=\"text_1\">\r\n      <!-- 2020-11-15 -->\r\n      <defs>\r\n       <path d=\"M 19.1875 8.296875 \r\nL 53.609375 8.296875 \r\nL 53.609375 0 \r\nL 7.328125 0 \r\nL 7.328125 8.296875 \r\nQ 12.9375 14.109375 22.625 23.890625 \r\nQ 32.328125 33.6875 34.8125 36.53125 \r\nQ 39.546875 41.84375 41.421875 45.53125 \r\nQ 43.3125 49.21875 43.3125 52.78125 \r\nQ 43.3125 58.59375 39.234375 62.25 \r\nQ 35.15625 65.921875 28.609375 65.921875 \r\nQ 23.96875 65.921875 18.8125 64.3125 \r\nQ 13.671875 62.703125 7.8125 59.421875 \r\nL 7.8125 69.390625 \r\nQ 13.765625 71.78125 18.9375 73 \r\nQ 24.125 74.21875 28.421875 74.21875 \r\nQ 39.75 74.21875 46.484375 68.546875 \r\nQ 53.21875 62.890625 53.21875 53.421875 \r\nQ 53.21875 48.921875 51.53125 44.890625 \r\nQ 49.859375 40.875 45.40625 35.40625 \r\nQ 44.1875 33.984375 37.640625 27.21875 \r\nQ 31.109375 20.453125 19.1875 8.296875 \r\nz\r\n\" id=\"DejaVuSans-50\"/>\r\n       <path d=\"M 31.78125 66.40625 \r\nQ 24.171875 66.40625 20.328125 58.90625 \r\nQ 16.5 51.421875 16.5 36.375 \r\nQ 16.5 21.390625 20.328125 13.890625 \r\nQ 24.171875 6.390625 31.78125 6.390625 \r\nQ 39.453125 6.390625 43.28125 13.890625 \r\nQ 47.125 21.390625 47.125 36.375 \r\nQ 47.125 51.421875 43.28125 58.90625 \r\nQ 39.453125 66.40625 31.78125 66.40625 \r\nz\r\nM 31.78125 74.21875 \r\nQ 44.046875 74.21875 50.515625 64.515625 \r\nQ 56.984375 54.828125 56.984375 36.375 \r\nQ 56.984375 17.96875 50.515625 8.265625 \r\nQ 44.046875 -1.421875 31.78125 -1.421875 \r\nQ 19.53125 -1.421875 13.0625 8.265625 \r\nQ 6.59375 17.96875 6.59375 36.375 \r\nQ 6.59375 54.828125 13.0625 64.515625 \r\nQ 19.53125 74.21875 31.78125 74.21875 \r\nz\r\n\" id=\"DejaVuSans-48\"/>\r\n       <path d=\"M 4.890625 31.390625 \r\nL 31.203125 31.390625 \r\nL 31.203125 23.390625 \r\nL 4.890625 23.390625 \r\nz\r\n\" id=\"DejaVuSans-45\"/>\r\n       <path d=\"M 12.40625 8.296875 \r\nL 28.515625 8.296875 \r\nL 28.515625 63.921875 \r\nL 10.984375 60.40625 \r\nL 10.984375 69.390625 \r\nL 28.421875 72.90625 \r\nL 38.28125 72.90625 \r\nL 38.28125 8.296875 \r\nL 54.390625 8.296875 \r\nL 54.390625 0 \r\nL 12.40625 0 \r\nz\r\n\" id=\"DejaVuSans-49\"/>\r\n       <path d=\"M 10.796875 72.90625 \r\nL 49.515625 72.90625 \r\nL 49.515625 64.59375 \r\nL 19.828125 64.59375 \r\nL 19.828125 46.734375 \r\nQ 21.96875 47.46875 24.109375 47.828125 \r\nQ 26.265625 48.1875 28.421875 48.1875 \r\nQ 40.625 48.1875 47.75 41.5 \r\nQ 54.890625 34.8125 54.890625 23.390625 \r\nQ 54.890625 11.625 47.5625 5.09375 \r\nQ 40.234375 -1.421875 26.90625 -1.421875 \r\nQ 22.3125 -1.421875 17.546875 -0.640625 \r\nQ 12.796875 0.140625 7.71875 1.703125 \r\nL 7.71875 11.625 \r\nQ 12.109375 9.234375 16.796875 8.0625 \r\nQ 21.484375 6.890625 26.703125 6.890625 \r\nQ 35.15625 6.890625 40.078125 11.328125 \r\nQ 45.015625 15.765625 45.015625 23.390625 \r\nQ 45.015625 31 40.078125 35.4375 \r\nQ 35.15625 39.890625 26.703125 39.890625 \r\nQ 22.75 39.890625 18.8125 39.015625 \r\nQ 14.890625 38.140625 10.796875 36.28125 \r\nz\r\n\" id=\"DejaVuSans-53\"/>\r\n      </defs>\r\n      <g transform=\"translate(13.085369 239.238437)scale(0.1 -0.1)\">\r\n       <use xlink:href=\"#DejaVuSans-50\"/>\r\n       <use x=\"63.623047\" xlink:href=\"#DejaVuSans-48\"/>\r\n       <use x=\"127.246094\" xlink:href=\"#DejaVuSans-50\"/>\r\n       <use x=\"190.869141\" xlink:href=\"#DejaVuSans-48\"/>\r\n       <use x=\"254.492188\" xlink:href=\"#DejaVuSans-45\"/>\r\n       <use x=\"290.576172\" xlink:href=\"#DejaVuSans-49\"/>\r\n       <use x=\"354.199219\" xlink:href=\"#DejaVuSans-49\"/>\r\n       <use x=\"417.822266\" xlink:href=\"#DejaVuSans-45\"/>\r\n       <use x=\"453.90625\" xlink:href=\"#DejaVuSans-49\"/>\r\n       <use x=\"517.529297\" xlink:href=\"#DejaVuSans-53\"/>\r\n      </g>\r\n     </g>\r\n    </g>\r\n    <g id=\"xtick_2\">\r\n     <g id=\"line2d_2\">\r\n      <g>\r\n       <use style=\"stroke:#000000;stroke-width:0.8;\" x=\"80.287972\" xlink:href=\"#mf3cd859ba0\" y=\"224.64\"/>\r\n      </g>\r\n     </g>\r\n     <g id=\"text_2\">\r\n      <!-- 2020-11-16 -->\r\n      <defs>\r\n       <path d=\"M 33.015625 40.375 \r\nQ 26.375 40.375 22.484375 35.828125 \r\nQ 18.609375 31.296875 18.609375 23.390625 \r\nQ 18.609375 15.53125 22.484375 10.953125 \r\nQ 26.375 6.390625 33.015625 6.390625 \r\nQ 39.65625 6.390625 43.53125 10.953125 \r\nQ 47.40625 15.53125 47.40625 23.390625 \r\nQ 47.40625 31.296875 43.53125 35.828125 \r\nQ 39.65625 40.375 33.015625 40.375 \r\nz\r\nM 52.59375 71.296875 \r\nL 52.59375 62.3125 \r\nQ 48.875 64.0625 45.09375 64.984375 \r\nQ 41.3125 65.921875 37.59375 65.921875 \r\nQ 27.828125 65.921875 22.671875 59.328125 \r\nQ 17.53125 52.734375 16.796875 39.40625 \r\nQ 19.671875 43.65625 24.015625 45.921875 \r\nQ 28.375 48.1875 33.59375 48.1875 \r\nQ 44.578125 48.1875 50.953125 41.515625 \r\nQ 57.328125 34.859375 57.328125 23.390625 \r\nQ 57.328125 12.15625 50.6875 5.359375 \r\nQ 44.046875 -1.421875 33.015625 -1.421875 \r\nQ 20.359375 -1.421875 13.671875 8.265625 \r\nQ 6.984375 17.96875 6.984375 36.375 \r\nQ 6.984375 53.65625 15.1875 63.9375 \r\nQ 23.390625 74.21875 37.203125 74.21875 \r\nQ 40.921875 74.21875 44.703125 73.484375 \r\nQ 48.484375 72.75 52.59375 71.296875 \r\nz\r\n\" id=\"DejaVuSans-54\"/>\r\n      </defs>\r\n      <g transform=\"translate(51.230159 239.238437)scale(0.1 -0.1)\">\r\n       <use xlink:href=\"#DejaVuSans-50\"/>\r\n       <use x=\"63.623047\" xlink:href=\"#DejaVuSans-48\"/>\r\n       <use x=\"127.246094\" xlink:href=\"#DejaVuSans-50\"/>\r\n       <use x=\"190.869141\" xlink:href=\"#DejaVuSans-48\"/>\r\n       <use x=\"254.492188\" xlink:href=\"#DejaVuSans-45\"/>\r\n       <use x=\"290.576172\" xlink:href=\"#DejaVuSans-49\"/>\r\n       <use x=\"354.199219\" xlink:href=\"#DejaVuSans-49\"/>\r\n       <use x=\"417.822266\" xlink:href=\"#DejaVuSans-45\"/>\r\n       <use x=\"453.90625\" xlink:href=\"#DejaVuSans-49\"/>\r\n       <use x=\"517.529297\" xlink:href=\"#DejaVuSans-54\"/>\r\n      </g>\r\n     </g>\r\n    </g>\r\n    <g id=\"xtick_3\">\r\n     <g id=\"line2d_3\">\r\n      <g>\r\n       <use style=\"stroke:#000000;stroke-width:0.8;\" x=\"118.432762\" xlink:href=\"#mf3cd859ba0\" y=\"224.64\"/>\r\n      </g>\r\n     </g>\r\n     <g id=\"text_3\">\r\n      <!-- 2020-11-17 -->\r\n      <defs>\r\n       <path d=\"M 8.203125 72.90625 \r\nL 55.078125 72.90625 \r\nL 55.078125 68.703125 \r\nL 28.609375 0 \r\nL 18.3125 0 \r\nL 43.21875 64.59375 \r\nL 8.203125 64.59375 \r\nz\r\n\" id=\"DejaVuSans-55\"/>\r\n      </defs>\r\n      <g transform=\"translate(89.374949 239.238437)scale(0.1 -0.1)\">\r\n       <use xlink:href=\"#DejaVuSans-50\"/>\r\n       <use x=\"63.623047\" xlink:href=\"#DejaVuSans-48\"/>\r\n       <use x=\"127.246094\" xlink:href=\"#DejaVuSans-50\"/>\r\n       <use x=\"190.869141\" xlink:href=\"#DejaVuSans-48\"/>\r\n       <use x=\"254.492188\" xlink:href=\"#DejaVuSans-45\"/>\r\n       <use x=\"290.576172\" xlink:href=\"#DejaVuSans-49\"/>\r\n       <use x=\"354.199219\" xlink:href=\"#DejaVuSans-49\"/>\r\n       <use x=\"417.822266\" xlink:href=\"#DejaVuSans-45\"/>\r\n       <use x=\"453.90625\" xlink:href=\"#DejaVuSans-49\"/>\r\n       <use x=\"517.529297\" xlink:href=\"#DejaVuSans-55\"/>\r\n      </g>\r\n     </g>\r\n    </g>\r\n    <g id=\"xtick_4\">\r\n     <g id=\"line2d_4\">\r\n      <g>\r\n       <use style=\"stroke:#000000;stroke-width:0.8;\" x=\"156.577552\" xlink:href=\"#mf3cd859ba0\" y=\"224.64\"/>\r\n      </g>\r\n     </g>\r\n     <g id=\"text_4\">\r\n      <!-- 2020-11-18 -->\r\n      <defs>\r\n       <path d=\"M 31.78125 34.625 \r\nQ 24.75 34.625 20.71875 30.859375 \r\nQ 16.703125 27.09375 16.703125 20.515625 \r\nQ 16.703125 13.921875 20.71875 10.15625 \r\nQ 24.75 6.390625 31.78125 6.390625 \r\nQ 38.8125 6.390625 42.859375 10.171875 \r\nQ 46.921875 13.96875 46.921875 20.515625 \r\nQ 46.921875 27.09375 42.890625 30.859375 \r\nQ 38.875 34.625 31.78125 34.625 \r\nz\r\nM 21.921875 38.8125 \r\nQ 15.578125 40.375 12.03125 44.71875 \r\nQ 8.5 49.078125 8.5 55.328125 \r\nQ 8.5 64.0625 14.71875 69.140625 \r\nQ 20.953125 74.21875 31.78125 74.21875 \r\nQ 42.671875 74.21875 48.875 69.140625 \r\nQ 55.078125 64.0625 55.078125 55.328125 \r\nQ 55.078125 49.078125 51.53125 44.71875 \r\nQ 48 40.375 41.703125 38.8125 \r\nQ 48.828125 37.15625 52.796875 32.3125 \r\nQ 56.78125 27.484375 56.78125 20.515625 \r\nQ 56.78125 9.90625 50.3125 4.234375 \r\nQ 43.84375 -1.421875 31.78125 -1.421875 \r\nQ 19.734375 -1.421875 13.25 4.234375 \r\nQ 6.78125 9.90625 6.78125 20.515625 \r\nQ 6.78125 27.484375 10.78125 32.3125 \r\nQ 14.796875 37.15625 21.921875 38.8125 \r\nz\r\nM 18.3125 54.390625 \r\nQ 18.3125 48.734375 21.84375 45.5625 \r\nQ 25.390625 42.390625 31.78125 42.390625 \r\nQ 38.140625 42.390625 41.71875 45.5625 \r\nQ 45.3125 48.734375 45.3125 54.390625 \r\nQ 45.3125 60.0625 41.71875 63.234375 \r\nQ 38.140625 66.40625 31.78125 66.40625 \r\nQ 25.390625 66.40625 21.84375 63.234375 \r\nQ 18.3125 60.0625 18.3125 54.390625 \r\nz\r\n\" id=\"DejaVuSans-56\"/>\r\n      </defs>\r\n      <g transform=\"translate(127.519739 239.238437)scale(0.1 -0.1)\">\r\n       <use xlink:href=\"#DejaVuSans-50\"/>\r\n       <use x=\"63.623047\" xlink:href=\"#DejaVuSans-48\"/>\r\n       <use x=\"127.246094\" xlink:href=\"#DejaVuSans-50\"/>\r\n       <use x=\"190.869141\" xlink:href=\"#DejaVuSans-48\"/>\r\n       <use x=\"254.492188\" xlink:href=\"#DejaVuSans-45\"/>\r\n       <use x=\"290.576172\" xlink:href=\"#DejaVuSans-49\"/>\r\n       <use x=\"354.199219\" xlink:href=\"#DejaVuSans-49\"/>\r\n       <use x=\"417.822266\" xlink:href=\"#DejaVuSans-45\"/>\r\n       <use x=\"453.90625\" xlink:href=\"#DejaVuSans-49\"/>\r\n       <use x=\"517.529297\" xlink:href=\"#DejaVuSans-56\"/>\r\n      </g>\r\n     </g>\r\n    </g>\r\n    <g id=\"xtick_5\">\r\n     <g id=\"line2d_5\">\r\n      <g>\r\n       <use style=\"stroke:#000000;stroke-width:0.8;\" x=\"194.722342\" xlink:href=\"#mf3cd859ba0\" y=\"224.64\"/>\r\n      </g>\r\n     </g>\r\n     <g id=\"text_5\">\r\n      <!-- 2020-11-19 -->\r\n      <defs>\r\n       <path d=\"M 10.984375 1.515625 \r\nL 10.984375 10.5 \r\nQ 14.703125 8.734375 18.5 7.8125 \r\nQ 22.3125 6.890625 25.984375 6.890625 \r\nQ 35.75 6.890625 40.890625 13.453125 \r\nQ 46.046875 20.015625 46.78125 33.40625 \r\nQ 43.953125 29.203125 39.59375 26.953125 \r\nQ 35.25 24.703125 29.984375 24.703125 \r\nQ 19.046875 24.703125 12.671875 31.3125 \r\nQ 6.296875 37.9375 6.296875 49.421875 \r\nQ 6.296875 60.640625 12.9375 67.421875 \r\nQ 19.578125 74.21875 30.609375 74.21875 \r\nQ 43.265625 74.21875 49.921875 64.515625 \r\nQ 56.59375 54.828125 56.59375 36.375 \r\nQ 56.59375 19.140625 48.40625 8.859375 \r\nQ 40.234375 -1.421875 26.421875 -1.421875 \r\nQ 22.703125 -1.421875 18.890625 -0.6875 \r\nQ 15.09375 0.046875 10.984375 1.515625 \r\nz\r\nM 30.609375 32.421875 \r\nQ 37.25 32.421875 41.125 36.953125 \r\nQ 45.015625 41.5 45.015625 49.421875 \r\nQ 45.015625 57.28125 41.125 61.84375 \r\nQ 37.25 66.40625 30.609375 66.40625 \r\nQ 23.96875 66.40625 20.09375 61.84375 \r\nQ 16.21875 57.28125 16.21875 49.421875 \r\nQ 16.21875 41.5 20.09375 36.953125 \r\nQ 23.96875 32.421875 30.609375 32.421875 \r\nz\r\n\" id=\"DejaVuSans-57\"/>\r\n      </defs>\r\n      <g transform=\"translate(165.664529 239.238437)scale(0.1 -0.1)\">\r\n       <use xlink:href=\"#DejaVuSans-50\"/>\r\n       <use x=\"63.623047\" xlink:href=\"#DejaVuSans-48\"/>\r\n       <use x=\"127.246094\" xlink:href=\"#DejaVuSans-50\"/>\r\n       <use x=\"190.869141\" xlink:href=\"#DejaVuSans-48\"/>\r\n       <use x=\"254.492188\" xlink:href=\"#DejaVuSans-45\"/>\r\n       <use x=\"290.576172\" xlink:href=\"#DejaVuSans-49\"/>\r\n       <use x=\"354.199219\" xlink:href=\"#DejaVuSans-49\"/>\r\n       <use x=\"417.822266\" xlink:href=\"#DejaVuSans-45\"/>\r\n       <use x=\"453.90625\" xlink:href=\"#DejaVuSans-49\"/>\r\n       <use x=\"517.529297\" xlink:href=\"#DejaVuSans-57\"/>\r\n      </g>\r\n     </g>\r\n    </g>\r\n    <g id=\"xtick_6\">\r\n     <g id=\"line2d_6\">\r\n      <g>\r\n       <use style=\"stroke:#000000;stroke-width:0.8;\" x=\"232.867131\" xlink:href=\"#mf3cd859ba0\" y=\"224.64\"/>\r\n      </g>\r\n     </g>\r\n     <g id=\"text_6\">\r\n      <!-- 2020-11-20 -->\r\n      <g transform=\"translate(203.809319 239.238437)scale(0.1 -0.1)\">\r\n       <use xlink:href=\"#DejaVuSans-50\"/>\r\n       <use x=\"63.623047\" xlink:href=\"#DejaVuSans-48\"/>\r\n       <use x=\"127.246094\" xlink:href=\"#DejaVuSans-50\"/>\r\n       <use x=\"190.869141\" xlink:href=\"#DejaVuSans-48\"/>\r\n       <use x=\"254.492188\" xlink:href=\"#DejaVuSans-45\"/>\r\n       <use x=\"290.576172\" xlink:href=\"#DejaVuSans-49\"/>\r\n       <use x=\"354.199219\" xlink:href=\"#DejaVuSans-49\"/>\r\n       <use x=\"417.822266\" xlink:href=\"#DejaVuSans-45\"/>\r\n       <use x=\"453.90625\" xlink:href=\"#DejaVuSans-50\"/>\r\n       <use x=\"517.529297\" xlink:href=\"#DejaVuSans-48\"/>\r\n      </g>\r\n     </g>\r\n    </g>\r\n    <g id=\"xtick_7\">\r\n     <g id=\"line2d_7\">\r\n      <g>\r\n       <use style=\"stroke:#000000;stroke-width:0.8;\" x=\"271.011921\" xlink:href=\"#mf3cd859ba0\" y=\"224.64\"/>\r\n      </g>\r\n     </g>\r\n     <g id=\"text_7\">\r\n      <!-- 2020-11-21 -->\r\n      <g transform=\"translate(241.954109 239.238437)scale(0.1 -0.1)\">\r\n       <use xlink:href=\"#DejaVuSans-50\"/>\r\n       <use x=\"63.623047\" xlink:href=\"#DejaVuSans-48\"/>\r\n       <use x=\"127.246094\" xlink:href=\"#DejaVuSans-50\"/>\r\n       <use x=\"190.869141\" xlink:href=\"#DejaVuSans-48\"/>\r\n       <use x=\"254.492188\" xlink:href=\"#DejaVuSans-45\"/>\r\n       <use x=\"290.576172\" xlink:href=\"#DejaVuSans-49\"/>\r\n       <use x=\"354.199219\" xlink:href=\"#DejaVuSans-49\"/>\r\n       <use x=\"417.822266\" xlink:href=\"#DejaVuSans-45\"/>\r\n       <use x=\"453.90625\" xlink:href=\"#DejaVuSans-50\"/>\r\n       <use x=\"517.529297\" xlink:href=\"#DejaVuSans-49\"/>\r\n      </g>\r\n     </g>\r\n    </g>\r\n    <g id=\"xtick_8\">\r\n     <g id=\"line2d_8\">\r\n      <g>\r\n       <use style=\"stroke:#000000;stroke-width:0.8;\" x=\"309.156711\" xlink:href=\"#mf3cd859ba0\" y=\"224.64\"/>\r\n      </g>\r\n     </g>\r\n     <g id=\"text_8\">\r\n      <!-- 2020-11-22 -->\r\n      <g transform=\"translate(280.098899 239.238437)scale(0.1 -0.1)\">\r\n       <use xlink:href=\"#DejaVuSans-50\"/>\r\n       <use x=\"63.623047\" xlink:href=\"#DejaVuSans-48\"/>\r\n       <use x=\"127.246094\" xlink:href=\"#DejaVuSans-50\"/>\r\n       <use x=\"190.869141\" xlink:href=\"#DejaVuSans-48\"/>\r\n       <use x=\"254.492188\" xlink:href=\"#DejaVuSans-45\"/>\r\n       <use x=\"290.576172\" xlink:href=\"#DejaVuSans-49\"/>\r\n       <use x=\"354.199219\" xlink:href=\"#DejaVuSans-49\"/>\r\n       <use x=\"417.822266\" xlink:href=\"#DejaVuSans-45\"/>\r\n       <use x=\"453.90625\" xlink:href=\"#DejaVuSans-50\"/>\r\n       <use x=\"517.529297\" xlink:href=\"#DejaVuSans-50\"/>\r\n      </g>\r\n     </g>\r\n    </g>\r\n    <g id=\"xtick_9\">\r\n     <g id=\"line2d_9\">\r\n      <g>\r\n       <use style=\"stroke:#000000;stroke-width:0.8;\" x=\"347.301501\" xlink:href=\"#mf3cd859ba0\" y=\"224.64\"/>\r\n      </g>\r\n     </g>\r\n     <g id=\"text_9\">\r\n      <!-- 2020-11-23 -->\r\n      <defs>\r\n       <path d=\"M 40.578125 39.3125 \r\nQ 47.65625 37.796875 51.625 33 \r\nQ 55.609375 28.21875 55.609375 21.1875 \r\nQ 55.609375 10.40625 48.1875 4.484375 \r\nQ 40.765625 -1.421875 27.09375 -1.421875 \r\nQ 22.515625 -1.421875 17.65625 -0.515625 \r\nQ 12.796875 0.390625 7.625 2.203125 \r\nL 7.625 11.71875 \r\nQ 11.71875 9.328125 16.59375 8.109375 \r\nQ 21.484375 6.890625 26.8125 6.890625 \r\nQ 36.078125 6.890625 40.9375 10.546875 \r\nQ 45.796875 14.203125 45.796875 21.1875 \r\nQ 45.796875 27.640625 41.28125 31.265625 \r\nQ 36.765625 34.90625 28.71875 34.90625 \r\nL 20.21875 34.90625 \r\nL 20.21875 43.015625 \r\nL 29.109375 43.015625 \r\nQ 36.375 43.015625 40.234375 45.921875 \r\nQ 44.09375 48.828125 44.09375 54.296875 \r\nQ 44.09375 59.90625 40.109375 62.90625 \r\nQ 36.140625 65.921875 28.71875 65.921875 \r\nQ 24.65625 65.921875 20.015625 65.03125 \r\nQ 15.375 64.15625 9.8125 62.3125 \r\nL 9.8125 71.09375 \r\nQ 15.4375 72.65625 20.34375 73.4375 \r\nQ 25.25 74.21875 29.59375 74.21875 \r\nQ 40.828125 74.21875 47.359375 69.109375 \r\nQ 53.90625 64.015625 53.90625 55.328125 \r\nQ 53.90625 49.265625 50.4375 45.09375 \r\nQ 46.96875 40.921875 40.578125 39.3125 \r\nz\r\n\" id=\"DejaVuSans-51\"/>\r\n      </defs>\r\n      <g transform=\"translate(318.243689 239.238437)scale(0.1 -0.1)\">\r\n       <use xlink:href=\"#DejaVuSans-50\"/>\r\n       <use x=\"63.623047\" xlink:href=\"#DejaVuSans-48\"/>\r\n       <use x=\"127.246094\" xlink:href=\"#DejaVuSans-50\"/>\r\n       <use x=\"190.869141\" xlink:href=\"#DejaVuSans-48\"/>\r\n       <use x=\"254.492188\" xlink:href=\"#DejaVuSans-45\"/>\r\n       <use x=\"290.576172\" xlink:href=\"#DejaVuSans-49\"/>\r\n       <use x=\"354.199219\" xlink:href=\"#DejaVuSans-49\"/>\r\n       <use x=\"417.822266\" xlink:href=\"#DejaVuSans-45\"/>\r\n       <use x=\"453.90625\" xlink:href=\"#DejaVuSans-50\"/>\r\n       <use x=\"517.529297\" xlink:href=\"#DejaVuSans-51\"/>\r\n      </g>\r\n     </g>\r\n    </g>\r\n   </g>\r\n   <g id=\"matplotlib.axis_2\">\r\n    <g id=\"ytick_1\">\r\n     <g id=\"line2d_10\">\r\n      <defs>\r\n       <path d=\"M 0 0 \r\nL -3.5 0 \r\n\" id=\"mc494a1623d\" style=\"stroke:#000000;stroke-width:0.8;\"/>\r\n      </defs>\r\n      <g>\r\n       <use style=\"stroke:#000000;stroke-width:0.8;\" x=\"26.925\" xlink:href=\"#mc494a1623d\" y=\"217.712489\"/>\r\n      </g>\r\n     </g>\r\n     <g id=\"text_10\">\r\n      <!-- 15 -->\r\n      <g transform=\"translate(7.2 221.511708)scale(0.1 -0.1)\">\r\n       <use xlink:href=\"#DejaVuSans-49\"/>\r\n       <use x=\"63.623047\" xlink:href=\"#DejaVuSans-53\"/>\r\n      </g>\r\n     </g>\r\n    </g>\r\n    <g id=\"ytick_2\">\r\n     <g id=\"line2d_11\">\r\n      <g>\r\n       <use style=\"stroke:#000000;stroke-width:0.8;\" x=\"26.925\" xlink:href=\"#mc494a1623d\" y=\"193.481951\"/>\r\n      </g>\r\n     </g>\r\n     <g id=\"text_11\">\r\n      <!-- 20 -->\r\n      <g transform=\"translate(7.2 197.28117)scale(0.1 -0.1)\">\r\n       <use xlink:href=\"#DejaVuSans-50\"/>\r\n       <use x=\"63.623047\" xlink:href=\"#DejaVuSans-48\"/>\r\n      </g>\r\n     </g>\r\n    </g>\r\n    <g id=\"ytick_3\">\r\n     <g id=\"line2d_12\">\r\n      <g>\r\n       <use style=\"stroke:#000000;stroke-width:0.8;\" x=\"26.925\" xlink:href=\"#mc494a1623d\" y=\"169.251414\"/>\r\n      </g>\r\n     </g>\r\n     <g id=\"text_12\">\r\n      <!-- 25 -->\r\n      <g transform=\"translate(7.2 173.050632)scale(0.1 -0.1)\">\r\n       <use xlink:href=\"#DejaVuSans-50\"/>\r\n       <use x=\"63.623047\" xlink:href=\"#DejaVuSans-53\"/>\r\n      </g>\r\n     </g>\r\n    </g>\r\n    <g id=\"ytick_4\">\r\n     <g id=\"line2d_13\">\r\n      <g>\r\n       <use style=\"stroke:#000000;stroke-width:0.8;\" x=\"26.925\" xlink:href=\"#mc494a1623d\" y=\"145.020876\"/>\r\n      </g>\r\n     </g>\r\n     <g id=\"text_13\">\r\n      <!-- 30 -->\r\n      <g transform=\"translate(7.2 148.820095)scale(0.1 -0.1)\">\r\n       <use xlink:href=\"#DejaVuSans-51\"/>\r\n       <use x=\"63.623047\" xlink:href=\"#DejaVuSans-48\"/>\r\n      </g>\r\n     </g>\r\n    </g>\r\n    <g id=\"ytick_5\">\r\n     <g id=\"line2d_14\">\r\n      <g>\r\n       <use style=\"stroke:#000000;stroke-width:0.8;\" x=\"26.925\" xlink:href=\"#mc494a1623d\" y=\"120.790338\"/>\r\n      </g>\r\n     </g>\r\n     <g id=\"text_14\">\r\n      <!-- 35 -->\r\n      <g transform=\"translate(7.2 124.589557)scale(0.1 -0.1)\">\r\n       <use xlink:href=\"#DejaVuSans-51\"/>\r\n       <use x=\"63.623047\" xlink:href=\"#DejaVuSans-53\"/>\r\n      </g>\r\n     </g>\r\n    </g>\r\n    <g id=\"ytick_6\">\r\n     <g id=\"line2d_15\">\r\n      <g>\r\n       <use style=\"stroke:#000000;stroke-width:0.8;\" x=\"26.925\" xlink:href=\"#mc494a1623d\" y=\"96.5598\"/>\r\n      </g>\r\n     </g>\r\n     <g id=\"text_15\">\r\n      <!-- 40 -->\r\n      <defs>\r\n       <path d=\"M 37.796875 64.3125 \r\nL 12.890625 25.390625 \r\nL 37.796875 25.390625 \r\nz\r\nM 35.203125 72.90625 \r\nL 47.609375 72.90625 \r\nL 47.609375 25.390625 \r\nL 58.015625 25.390625 \r\nL 58.015625 17.1875 \r\nL 47.609375 17.1875 \r\nL 47.609375 0 \r\nL 37.796875 0 \r\nL 37.796875 17.1875 \r\nL 4.890625 17.1875 \r\nL 4.890625 26.703125 \r\nz\r\n\" id=\"DejaVuSans-52\"/>\r\n      </defs>\r\n      <g transform=\"translate(7.2 100.359019)scale(0.1 -0.1)\">\r\n       <use xlink:href=\"#DejaVuSans-52\"/>\r\n       <use x=\"63.623047\" xlink:href=\"#DejaVuSans-48\"/>\r\n      </g>\r\n     </g>\r\n    </g>\r\n    <g id=\"ytick_7\">\r\n     <g id=\"line2d_16\">\r\n      <g>\r\n       <use style=\"stroke:#000000;stroke-width:0.8;\" x=\"26.925\" xlink:href=\"#mc494a1623d\" y=\"72.329263\"/>\r\n      </g>\r\n     </g>\r\n     <g id=\"text_16\">\r\n      <!-- 45 -->\r\n      <g transform=\"translate(7.2 76.128481)scale(0.1 -0.1)\">\r\n       <use xlink:href=\"#DejaVuSans-52\"/>\r\n       <use x=\"63.623047\" xlink:href=\"#DejaVuSans-53\"/>\r\n      </g>\r\n     </g>\r\n    </g>\r\n    <g id=\"ytick_8\">\r\n     <g id=\"line2d_17\">\r\n      <g>\r\n       <use style=\"stroke:#000000;stroke-width:0.8;\" x=\"26.925\" xlink:href=\"#mc494a1623d\" y=\"48.098725\"/>\r\n      </g>\r\n     </g>\r\n     <g id=\"text_17\">\r\n      <!-- 50 -->\r\n      <g transform=\"translate(7.2 51.897943)scale(0.1 -0.1)\">\r\n       <use xlink:href=\"#DejaVuSans-53\"/>\r\n       <use x=\"63.623047\" xlink:href=\"#DejaVuSans-48\"/>\r\n      </g>\r\n     </g>\r\n    </g>\r\n    <g id=\"ytick_9\">\r\n     <g id=\"line2d_18\">\r\n      <g>\r\n       <use style=\"stroke:#000000;stroke-width:0.8;\" x=\"26.925\" xlink:href=\"#mc494a1623d\" y=\"23.868187\"/>\r\n      </g>\r\n     </g>\r\n     <g id=\"text_18\">\r\n      <!-- 55 -->\r\n      <g transform=\"translate(7.2 27.667406)scale(0.1 -0.1)\">\r\n       <use xlink:href=\"#DejaVuSans-53\"/>\r\n       <use x=\"63.623047\" xlink:href=\"#DejaVuSans-53\"/>\r\n      </g>\r\n     </g>\r\n    </g>\r\n   </g>\r\n   <g id=\"line2d_19\">\r\n    <path clip-path=\"url(#p6e82403590)\" d=\"M 42.143182 30.361971 \r\nL 42.937865 30.604276 \r\nL 44.527231 30.604276 \r\nL 46.911281 30.410432 \r\nL 47.705964 30.555815 \r\nL 48.500647 30.507354 \r\nL 49.29533 30.265049 \r\nL 50.090013 30.458893 \r\nL 50.884696 30.458893 \r\nL 51.679379 30.31351 \r\nL 52.474062 30.31351 \r\nL 53.268746 30.071205 \r\nL 54.063429 30.265049 \r\nL 54.858112 30.265049 \r\nL 56.447478 30.507354 \r\nL 57.242161 30.216588 \r\nL 58.036844 30.410432 \r\nL 60.420894 30.507354 \r\nL 61.215577 30.410432 \r\nL 62.01026 30.846582 \r\nL 63.599626 30.458893 \r\nL 65.188992 30.74966 \r\nL 65.983676 30.652738 \r\nL 66.778359 31.040426 \r\nL 67.573042 31.23427 \r\nL 68.367725 31.185809 \r\nL 69.162408 31.67042 \r\nL 69.957091 31.23427 \r\nL 71.546457 30.991965 \r\nL 72.341141 31.088887 \r\nL 73.930507 31.088887 \r\nL 76.314556 31.088887 \r\nL 77.109239 31.23427 \r\nL 78.698606 30.991965 \r\nL 81.877338 31.185809 \r\nL 82.672021 30.991965 \r\nL 83.466704 31.331193 \r\nL 85.05607 30.943504 \r\nL 87.44012 31.137348 \r\nL 89.029486 30.943504 \r\nL 89.824169 31.137348 \r\nL 91.413535 30.701199 \r\nL 92.208219 30.74966 \r\nL 93.002902 30.458893 \r\nL 93.797585 29.683516 \r\nL 94.592268 23.09281 \r\nL 95.386951 37.485749 \r\nL 96.181634 29.828899 \r\nL 96.976317 30.071205 \r\nL 97.771 29.780438 \r\nL 98.565684 22.123588 \r\nL 99.360367 36.710372 \r\nL 100.15505 29.39275 \r\nL 100.949733 29.828899 \r\nL 101.744416 29.441211 \r\nL 102.539099 29.538133 \r\nL 103.333782 27.308923 \r\nL 104.128465 29.635055 \r\nL 105.717832 29.635055 \r\nL 106.512515 25.709708 \r\nL 107.307198 27.551229 \r\nL 108.101881 29.053522 \r\nL 108.896564 29.39275 \r\nL 109.691247 29.489672 \r\nL 111.280614 29.295827 \r\nL 112.075297 30.798121 \r\nL 112.86998 30.895043 \r\nL 113.664663 31.282732 \r\nL 115.254029 31.621959 \r\nL 116.048712 31.573498 \r\nL 116.843395 31.67042 \r\nL 117.638079 31.525037 \r\nL 118.432762 31.864264 \r\nL 119.227445 31.718881 \r\nL 120.816811 31.961187 \r\nL 121.611494 31.621959 \r\nL 122.406177 31.912725 \r\nL 123.20086 24.88587 \r\nL 123.995544 37.631132 \r\nL 124.790227 30.265049 \r\nL 127.968959 30.410432 \r\nL 128.763642 29.925821 \r\nL 129.558325 30.31351 \r\nL 130.353009 30.168127 \r\nL 131.147692 30.168127 \r\nL 131.942375 31.23427 \r\nL 132.737058 30.798121 \r\nL 133.531741 29.683516 \r\nL 134.326424 29.683516 \r\nL 135.121107 29.974282 \r\nL 135.91579 29.344288 \r\nL 136.710474 26.72739 \r\nL 137.505157 26.24278 \r\nL 138.29984 28.9566 \r\nL 139.094523 28.375067 \r\nL 140.683889 29.635055 \r\nL 141.478572 29.39275 \r\nL 142.273255 29.39275 \r\nL 143.067939 29.247366 \r\nL 143.862622 29.441211 \r\nL 144.657305 29.150444 \r\nL 145.451988 29.538133 \r\nL 146.246671 29.295827 \r\nL 147.041354 29.586594 \r\nL 147.836037 29.344288 \r\nL 148.63072 29.586594 \r\nL 149.425404 29.295827 \r\nL 150.220087 31.040426 \r\nL 151.01477 31.137348 \r\nL 151.809453 30.168127 \r\nL 152.604136 29.828899 \r\nL 153.398819 29.974282 \r\nL 154.193502 29.780438 \r\nL 154.988185 30.168127 \r\nL 155.782869 30.071205 \r\nL 156.577552 30.168127 \r\nL 157.372235 30.410432 \r\nL 158.166918 30.216588 \r\nL 160.550967 30.410432 \r\nL 161.34565 29.731977 \r\nL 162.140333 30.216588 \r\nL 163.7297 30.458893 \r\nL 164.524383 30.265049 \r\nL 165.319066 30.458893 \r\nL 166.113749 30.361971 \r\nL 166.908432 30.410432 \r\nL 167.703115 30.119666 \r\nL 168.497798 30.410432 \r\nL 169.292482 30.168127 \r\nL 170.087165 31.379654 \r\nL 170.881848 30.74966 \r\nL 171.676531 27.018157 \r\nL 172.471214 26.388163 \r\nL 173.265897 23.480498 \r\nL 174.06058 23.480498 \r\nL 174.855263 25.952013 \r\nL 175.649947 25.322019 \r\nL 176.44463 28.617372 \r\nL 177.239313 28.617372 \r\nL 178.033996 22.705121 \r\nL 178.828679 36.855755 \r\nL 179.623362 29.731977 \r\nL 180.418045 29.39275 \r\nL 181.212728 29.441211 \r\nL 182.007412 29.198905 \r\nL 182.802095 29.780438 \r\nL 184.391461 29.538133 \r\nL 185.980827 29.586594 \r\nL 186.77551 29.683516 \r\nL 187.570193 29.489672 \r\nL 188.364877 30.991965 \r\nL 189.15956 30.798121 \r\nL 189.954243 30.991965 \r\nL 190.748926 31.379654 \r\nL 192.338292 31.67042 \r\nL 193.927658 31.573498 \r\nL 194.722342 31.864264 \r\nL 195.517025 31.767342 \r\nL 196.311708 24.934331 \r\nL 197.106391 38.89112 \r\nL 197.901074 31.767342 \r\nL 198.695757 31.864264 \r\nL 199.49044 30.895043 \r\nL 200.285123 30.604276 \r\nL 201.079807 30.701199 \r\nL 203.463856 30.652738 \r\nL 204.258539 30.74966 \r\nL 205.053222 30.555815 \r\nL 206.642588 30.701199 \r\nL 207.437272 30.507354 \r\nL 208.231955 31.379654 \r\nL 209.026638 30.846582 \r\nL 209.821321 29.731977 \r\nL 210.616004 25.661247 \r\nL 211.410687 25.515864 \r\nL 213.000053 29.828899 \r\nL 213.794737 29.538133 \r\nL 214.58942 31.718881 \r\nL 215.384103 25.37048 \r\nL 216.973469 212.76946 \r\nL 217.768152 212.430232 \r\nL 218.562835 212.575615 \r\nL 219.357518 211.994082 \r\nL 220.152202 213.447915 \r\nL 220.946885 212.478693 \r\nL 221.741568 39.181887 \r\nL 222.536251 25.322019 \r\nL 223.330934 29.150444 \r\nL 224.125617 28.859678 \r\nL 225.714983 29.586594 \r\nL 226.509667 30.74966 \r\nL 227.30435 24.837408 \r\nL 228.099033 47.032581 \r\nL 228.893716 214.271753 \r\nL 231.277765 214.514058 \r\nL 232.072448 214.417136 \r\nL 236.840547 214.756364 \r\nL 237.63523 214.61098 \r\nL 238.429913 214.707903 \r\nL 240.01928 214.707903 \r\nL 240.813963 214.756364 \r\nL 241.608646 214.659441 \r\nL 242.403329 214.368675 \r\nL 243.198012 213.544837 \r\nL 243.992695 213.641759 \r\nL 244.787378 213.544837 \r\nL 245.582061 213.787142 \r\nL 246.376745 214.465597 \r\nL 247.171428 213.787142 \r\nL 248.760794 213.205609 \r\nL 249.555477 213.399454 \r\nL 250.35016 201.768795 \r\nL 251.144843 17.083636 \r\nL 251.939526 36.274222 \r\nL 252.73421 29.538133 \r\nL 253.528893 29.780438 \r\nL 254.323576 29.683516 \r\nL 255.118259 29.925821 \r\nL 255.912942 29.87736 \r\nL 256.707625 29.538133 \r\nL 259.886358 29.828899 \r\nL 260.681041 29.780438 \r\nL 261.475724 30.168127 \r\nL 262.270407 29.683516 \r\nL 263.859773 29.828899 \r\nL 264.654456 31.088887 \r\nL 268.627872 31.040426 \r\nL 269.422555 30.943504 \r\nL 270.217238 30.701199 \r\nL 271.806605 30.895043 \r\nL 274.985337 31.573498 \r\nL 275.78002 31.476576 \r\nL 276.574703 31.67042 \r\nL 277.369386 31.67042 \r\nL 278.16407 30.846582 \r\nL 278.958753 30.507354 \r\nL 279.753436 30.555815 \r\nL 281.342802 30.265049 \r\nL 282.137485 30.507354 \r\nL 282.932168 30.507354 \r\nL 283.726851 30.168127 \r\nL 284.521535 31.185809 \r\nL 286.110901 31.040426 \r\nL 286.905584 31.137348 \r\nL 287.700267 31.040426 \r\nL 288.49495 31.185809 \r\nL 289.289633 30.895043 \r\nL 290.084316 24.110492 \r\nL 290.879 37.921899 \r\nL 291.673683 30.74966 \r\nL 292.468366 30.991965 \r\nL 293.263049 30.701199 \r\nL 294.057732 30.943504 \r\nL 295.647098 30.943504 \r\nL 297.236465 31.428115 \r\nL 298.031148 31.282732 \r\nL 298.825831 31.476576 \r\nL 299.620514 31.525037 \r\nL 300.415197 31.428115 \r\nL 301.20988 31.525037 \r\nL 302.004563 31.912725 \r\nL 302.799246 31.912725 \r\nL 303.59393 31.767342 \r\nL 304.388613 31.912725 \r\nL 305.183296 31.815803 \r\nL 305.977979 32.009648 \r\nL 307.567345 31.912725 \r\nL 309.156711 32.009648 \r\nL 310.746078 32.009648 \r\nL 311.540761 31.088887 \r\nL 312.335444 30.701199 \r\nL 313.130127 30.846582 \r\nL 313.92481 30.798121 \r\nL 314.719493 30.895043 \r\nL 317.103543 30.846582 \r\nL 321.076958 30.74966 \r\nL 321.871641 30.701199 \r\nL 322.666324 32.10657 \r\nL 323.461008 31.912725 \r\nL 324.255691 32.10657 \r\nL 329.818473 32.155031 \r\nL 330.613156 31.815803 \r\nL 331.407839 32.10657 \r\nL 333.791888 32.058109 \r\nL 335.381254 31.815803 \r\nL 336.175938 32.009648 \r\nL 339.35467 32.058109 \r\nL 340.149353 32.300414 \r\nL 344.122769 32.348875 \r\nL 344.917452 32.155031 \r\nL 346.506818 32.251953 \r\nL 346.506818 32.251953 \r\n\" style=\"fill:none;stroke:#1f77b4;stroke-linecap:square;stroke-width:1.5;\"/>\r\n   </g>\r\n   <g id=\"patch_3\">\r\n    <path d=\"M 26.925 224.64 \r\nL 26.925 7.2 \r\n\" style=\"fill:none;stroke:#000000;stroke-linecap:square;stroke-linejoin:miter;stroke-width:0.8;\"/>\r\n   </g>\r\n   <g id=\"patch_4\">\r\n    <path d=\"M 361.725 224.64 \r\nL 361.725 7.2 \r\n\" style=\"fill:none;stroke:#000000;stroke-linecap:square;stroke-linejoin:miter;stroke-width:0.8;\"/>\r\n   </g>\r\n   <g id=\"patch_5\">\r\n    <path d=\"M 26.925 224.64 \r\nL 361.725 224.64 \r\n\" style=\"fill:none;stroke:#000000;stroke-linecap:square;stroke-linejoin:miter;stroke-width:0.8;\"/>\r\n   </g>\r\n   <g id=\"patch_6\">\r\n    <path d=\"M 26.925 7.2 \r\nL 361.725 7.2 \r\n\" style=\"fill:none;stroke:#000000;stroke-linecap:square;stroke-linejoin:miter;stroke-width:0.8;\"/>\r\n   </g>\r\n  </g>\r\n </g>\r\n <defs>\r\n  <clipPath id=\"p6e82403590\">\r\n   <rect height=\"217.44\" width=\"334.8\" x=\"26.925\" y=\"7.2\"/>\r\n  </clipPath>\r\n </defs>\r\n</svg>\r\n",
      "image/png": "[encoded data removed]"
     },
     "metadata": {
      "needs_background": "light"
     }
    }
   ],
   "source": [
    "plt.plot(townhall_socket['date and time'], townhall_socket['reading'])"
   ]
  },
  {
   "cell_type": "code",
   "execution_count": 43,
   "metadata": {},
   "outputs": [],
   "source": [
    "dataframe['Datetime'] = dataframe['recDate'] + dataframe['recTime']\n",
    "dataframe['Datetime'] = dataframe['Datetime'].apply(lambda x : datetime.strptime(x, '%Y-%m-%d%H:%M:%S'))"
   ]
  },
  {
   "cell_type": "code",
   "execution_count": 61,
   "metadata": {},
   "outputs": [],
   "source": [
    "lighting = dataframe[dataframe['sensorType'] == 'Lighting']"
   ]
  },
  {
   "cell_type": "code",
   "execution_count": 63,
   "metadata": {},
   "outputs": [
    {
     "data": {
      "text/html": [
       "<div>\n",
       "<style scoped>\n",
       "    .dataframe tbody tr th:only-of-type {\n",
       "        vertical-align: middle;\n",
       "    }\n",
       "\n",
       "    .dataframe tbody tr th {\n",
       "        vertical-align: top;\n",
       "    }\n",
       "\n",
       "    .dataframe thead th {\n",
       "        text-align: right;\n",
       "    }\n",
       "</style>\n",
       "<table border=\"1\" class=\"dataframe\">\n",
       "  <thead>\n",
       "    <tr style=\"text-align: right;\">\n",
       "      <th></th>\n",
       "      <th>zoneName</th>\n",
       "      <th>sensorType</th>\n",
       "      <th>recDate</th>\n",
       "      <th>recTime</th>\n",
       "      <th>reading</th>\n",
       "      <th>Datetime</th>\n",
       "    </tr>\n",
       "  </thead>\n",
       "  <tbody>\n",
       "    <tr>\n",
       "      <th>0</th>\n",
       "      <td>Classroom 101</td>\n",
       "      <td>Lighting</td>\n",
       "      <td>2020-11-15</td>\n",
       "      <td>00:00:00</td>\n",
       "      <td>1.22</td>\n",
       "      <td>2020-11-15 00:00:00</td>\n",
       "    </tr>\n",
       "    <tr>\n",
       "      <th>1</th>\n",
       "      <td>Classroom 101</td>\n",
       "      <td>Lighting</td>\n",
       "      <td>2020-11-15</td>\n",
       "      <td>00:30:00</td>\n",
       "      <td>1.20</td>\n",
       "      <td>2020-11-15 00:30:00</td>\n",
       "    </tr>\n",
       "    <tr>\n",
       "      <th>2</th>\n",
       "      <td>Classroom 101</td>\n",
       "      <td>Lighting</td>\n",
       "      <td>2020-11-15</td>\n",
       "      <td>01:00:00</td>\n",
       "      <td>1.21</td>\n",
       "      <td>2020-11-15 01:00:00</td>\n",
       "    </tr>\n",
       "    <tr>\n",
       "      <th>3</th>\n",
       "      <td>Classroom 101</td>\n",
       "      <td>Lighting</td>\n",
       "      <td>2020-11-15</td>\n",
       "      <td>01:30:00</td>\n",
       "      <td>1.21</td>\n",
       "      <td>2020-11-15 01:30:00</td>\n",
       "    </tr>\n",
       "    <tr>\n",
       "      <th>4</th>\n",
       "      <td>Classroom 101</td>\n",
       "      <td>Lighting</td>\n",
       "      <td>2020-11-15</td>\n",
       "      <td>02:00:00</td>\n",
       "      <td>1.20</td>\n",
       "      <td>2020-11-15 02:00:00</td>\n",
       "    </tr>\n",
       "    <tr>\n",
       "      <th>...</th>\n",
       "      <td>...</td>\n",
       "      <td>...</td>\n",
       "      <td>...</td>\n",
       "      <td>...</td>\n",
       "      <td>...</td>\n",
       "      <td>...</td>\n",
       "    </tr>\n",
       "    <tr>\n",
       "      <th>379</th>\n",
       "      <td>Classroom 101</td>\n",
       "      <td>Lighting</td>\n",
       "      <td>2020-11-22</td>\n",
       "      <td>21:30:00</td>\n",
       "      <td>1.04</td>\n",
       "      <td>2020-11-22 21:30:00</td>\n",
       "    </tr>\n",
       "    <tr>\n",
       "      <th>380</th>\n",
       "      <td>Classroom 101</td>\n",
       "      <td>Lighting</td>\n",
       "      <td>2020-11-22</td>\n",
       "      <td>22:00:00</td>\n",
       "      <td>1.05</td>\n",
       "      <td>2020-11-22 22:00:00</td>\n",
       "    </tr>\n",
       "    <tr>\n",
       "      <th>381</th>\n",
       "      <td>Classroom 101</td>\n",
       "      <td>Lighting</td>\n",
       "      <td>2020-11-22</td>\n",
       "      <td>22:30:00</td>\n",
       "      <td>1.04</td>\n",
       "      <td>2020-11-22 22:30:00</td>\n",
       "    </tr>\n",
       "    <tr>\n",
       "      <th>382</th>\n",
       "      <td>Classroom 101</td>\n",
       "      <td>Lighting</td>\n",
       "      <td>2020-11-22</td>\n",
       "      <td>23:00:00</td>\n",
       "      <td>1.04</td>\n",
       "      <td>2020-11-22 23:00:00</td>\n",
       "    </tr>\n",
       "    <tr>\n",
       "      <th>383</th>\n",
       "      <td>Classroom 101</td>\n",
       "      <td>Lighting</td>\n",
       "      <td>2020-11-22</td>\n",
       "      <td>23:30:00</td>\n",
       "      <td>1.04</td>\n",
       "      <td>2020-11-22 23:30:00</td>\n",
       "    </tr>\n",
       "  </tbody>\n",
       "</table>\n",
       "<p>384 rows × 6 columns</p>\n",
       "</div>"
      ],
      "text/plain": [
       "          zoneName sensorType     recDate   recTime  reading  \\\n",
       "0    Classroom 101   Lighting  2020-11-15  00:00:00     1.22   \n",
       "1    Classroom 101   Lighting  2020-11-15  00:30:00     1.20   \n",
       "2    Classroom 101   Lighting  2020-11-15  01:00:00     1.21   \n",
       "3    Classroom 101   Lighting  2020-11-15  01:30:00     1.21   \n",
       "4    Classroom 101   Lighting  2020-11-15  02:00:00     1.20   \n",
       "..             ...        ...         ...       ...      ...   \n",
       "379  Classroom 101   Lighting  2020-11-22  21:30:00     1.04   \n",
       "380  Classroom 101   Lighting  2020-11-22  22:00:00     1.05   \n",
       "381  Classroom 101   Lighting  2020-11-22  22:30:00     1.04   \n",
       "382  Classroom 101   Lighting  2020-11-22  23:00:00     1.04   \n",
       "383  Classroom 101   Lighting  2020-11-22  23:30:00     1.04   \n",
       "\n",
       "               Datetime  \n",
       "0   2020-11-15 00:00:00  \n",
       "1   2020-11-15 00:30:00  \n",
       "2   2020-11-15 01:00:00  \n",
       "3   2020-11-15 01:30:00  \n",
       "4   2020-11-15 02:00:00  \n",
       "..                  ...  \n",
       "379 2020-11-22 21:30:00  \n",
       "380 2020-11-22 22:00:00  \n",
       "381 2020-11-22 22:30:00  \n",
       "382 2020-11-22 23:00:00  \n",
       "383 2020-11-22 23:30:00  \n",
       "\n",
       "[384 rows x 6 columns]"
      ]
     },
     "execution_count": 63,
     "metadata": {},
     "output_type": "execute_result"
    }
   ],
   "source": [
    "lighting[lighting['zoneName'] == 'Classroom 101']"
   ]
  },
  {
   "cell_type": "code",
   "execution_count": 64,
   "metadata": {},
   "outputs": [
    {
     "data": {
      "text/plain": [
       "[<matplotlib.lines.Line2D at 0x2155bb40088>]"
      ]
     },
     "execution_count": 64,
     "metadata": {},
     "output_type": "execute_result"
    },
    {
     "data": {
      "image/png": "[encoded data removed]",
      "text/plain": [
       "<Figure size 432x288 with 1 Axes>"
      ]
     },
     "metadata": {
      "needs_background": "light"
     },
     "output_type": "display_data"
    }
   ],
   "source": [
    "plt.plot(lighting[lighting['zoneName'] == 'Classroom 101']['Datetime'], lighting[lighting['zoneName'] == 'Classroom 101']['reading'])"
   ]
  },
  {
   "cell_type": "code",
   "execution_count": 65,
   "metadata": {},
   "outputs": [
    {
     "data": {
      "text/html": [
       "<div>\n",
       "<style scoped>\n",
       "    .dataframe tbody tr th:only-of-type {\n",
       "        vertical-align: middle;\n",
       "    }\n",
       "\n",
       "    .dataframe tbody tr th {\n",
       "        vertical-align: top;\n",
       "    }\n",
       "\n",
       "    .dataframe thead th {\n",
       "        text-align: right;\n",
       "    }\n",
       "</style>\n",
       "<table border=\"1\" class=\"dataframe\">\n",
       "  <thead>\n",
       "    <tr style=\"text-align: right;\">\n",
       "      <th></th>\n",
       "      <th>zoneName</th>\n",
       "      <th>sensorType</th>\n",
       "      <th>recDate</th>\n",
       "      <th>recTime</th>\n",
       "      <th>reading</th>\n",
       "      <th>Datetime</th>\n",
       "    </tr>\n",
       "  </thead>\n",
       "  <tbody>\n",
       "    <tr>\n",
       "      <th>0</th>\n",
       "      <td>Classroom 101</td>\n",
       "      <td>Lighting</td>\n",
       "      <td>2020-11-15</td>\n",
       "      <td>00:00:00</td>\n",
       "      <td>1.22</td>\n",
       "      <td>2020-11-15 00:00:00</td>\n",
       "    </tr>\n",
       "    <tr>\n",
       "      <th>1</th>\n",
       "      <td>Classroom 101</td>\n",
       "      <td>Lighting</td>\n",
       "      <td>2020-11-15</td>\n",
       "      <td>00:30:00</td>\n",
       "      <td>1.20</td>\n",
       "      <td>2020-11-15 00:30:00</td>\n",
       "    </tr>\n",
       "    <tr>\n",
       "      <th>2</th>\n",
       "      <td>Classroom 101</td>\n",
       "      <td>Lighting</td>\n",
       "      <td>2020-11-15</td>\n",
       "      <td>01:00:00</td>\n",
       "      <td>1.21</td>\n",
       "      <td>2020-11-15 01:00:00</td>\n",
       "    </tr>\n",
       "    <tr>\n",
       "      <th>3</th>\n",
       "      <td>Classroom 101</td>\n",
       "      <td>Lighting</td>\n",
       "      <td>2020-11-15</td>\n",
       "      <td>01:30:00</td>\n",
       "      <td>1.21</td>\n",
       "      <td>2020-11-15 01:30:00</td>\n",
       "    </tr>\n",
       "    <tr>\n",
       "      <th>4</th>\n",
       "      <td>Classroom 101</td>\n",
       "      <td>Lighting</td>\n",
       "      <td>2020-11-15</td>\n",
       "      <td>02:00:00</td>\n",
       "      <td>1.20</td>\n",
       "      <td>2020-11-15 02:00:00</td>\n",
       "    </tr>\n",
       "    <tr>\n",
       "      <th>...</th>\n",
       "      <td>...</td>\n",
       "      <td>...</td>\n",
       "      <td>...</td>\n",
       "      <td>...</td>\n",
       "      <td>...</td>\n",
       "      <td>...</td>\n",
       "    </tr>\n",
       "    <tr>\n",
       "      <th>379</th>\n",
       "      <td>Classroom 101</td>\n",
       "      <td>Lighting</td>\n",
       "      <td>2020-11-22</td>\n",
       "      <td>21:30:00</td>\n",
       "      <td>1.04</td>\n",
       "      <td>2020-11-22 21:30:00</td>\n",
       "    </tr>\n",
       "    <tr>\n",
       "      <th>380</th>\n",
       "      <td>Classroom 101</td>\n",
       "      <td>Lighting</td>\n",
       "      <td>2020-11-22</td>\n",
       "      <td>22:00:00</td>\n",
       "      <td>1.05</td>\n",
       "      <td>2020-11-22 22:00:00</td>\n",
       "    </tr>\n",
       "    <tr>\n",
       "      <th>381</th>\n",
       "      <td>Classroom 101</td>\n",
       "      <td>Lighting</td>\n",
       "      <td>2020-11-22</td>\n",
       "      <td>22:30:00</td>\n",
       "      <td>1.04</td>\n",
       "      <td>2020-11-22 22:30:00</td>\n",
       "    </tr>\n",
       "    <tr>\n",
       "      <th>382</th>\n",
       "      <td>Classroom 101</td>\n",
       "      <td>Lighting</td>\n",
       "      <td>2020-11-22</td>\n",
       "      <td>23:00:00</td>\n",
       "      <td>1.04</td>\n",
       "      <td>2020-11-22 23:00:00</td>\n",
       "    </tr>\n",
       "    <tr>\n",
       "      <th>383</th>\n",
       "      <td>Classroom 101</td>\n",
       "      <td>Lighting</td>\n",
       "      <td>2020-11-22</td>\n",
       "      <td>23:30:00</td>\n",
       "      <td>1.04</td>\n",
       "      <td>2020-11-22 23:30:00</td>\n",
       "    </tr>\n",
       "  </tbody>\n",
       "</table>\n",
       "<p>384 rows × 6 columns</p>\n",
       "</div>"
      ],
      "text/plain": [
       "          zoneName sensorType     recDate   recTime  reading  \\\n",
       "0    Classroom 101   Lighting  2020-11-15  00:00:00     1.22   \n",
       "1    Classroom 101   Lighting  2020-11-15  00:30:00     1.20   \n",
       "2    Classroom 101   Lighting  2020-11-15  01:00:00     1.21   \n",
       "3    Classroom 101   Lighting  2020-11-15  01:30:00     1.21   \n",
       "4    Classroom 101   Lighting  2020-11-15  02:00:00     1.20   \n",
       "..             ...        ...         ...       ...      ...   \n",
       "379  Classroom 101   Lighting  2020-11-22  21:30:00     1.04   \n",
       "380  Classroom 101   Lighting  2020-11-22  22:00:00     1.05   \n",
       "381  Classroom 101   Lighting  2020-11-22  22:30:00     1.04   \n",
       "382  Classroom 101   Lighting  2020-11-22  23:00:00     1.04   \n",
       "383  Classroom 101   Lighting  2020-11-22  23:30:00     1.04   \n",
       "\n",
       "               Datetime  \n",
       "0   2020-11-15 00:00:00  \n",
       "1   2020-11-15 00:30:00  \n",
       "2   2020-11-15 01:00:00  \n",
       "3   2020-11-15 01:30:00  \n",
       "4   2020-11-15 02:00:00  \n",
       "..                  ...  \n",
       "379 2020-11-22 21:30:00  \n",
       "380 2020-11-22 22:00:00  \n",
       "381 2020-11-22 22:30:00  \n",
       "382 2020-11-22 23:00:00  \n",
       "383 2020-11-22 23:30:00  \n",
       "\n",
       "[384 rows x 6 columns]"
      ]
     },
     "execution_count": 65,
     "metadata": {},
     "output_type": "execute_result"
    }
   ],
   "source": [
    "lighting_classroom101 = lighting[lighting['zoneName'] == 'Classroom 101']\n",
    "lighting_classroom101"
   ]
  },
  {
   "cell_type": "code",
   "execution_count": null,
   "metadata": {},
   "outputs": [],
   "source": []
  }
 ],
 "metadata": {
  "kernelspec": {
   "name": "python3",
   "display_name": "Python 3.8.3 64-bit (conda)",
   "metadata": {
    "interpreter": {
     "hash": "be2e7877c44afa397199e9cfbcd571547135c18cd55cff007376fb6d8ac3a739"
    }
   }
  },
  "language_info": {
   "codemirror_mode": {
    "name": "ipython",
    "version": 3
   },
   "file_extension": ".py",
   "mimetype": "text/x-python",
   "name": "python",
   "nbconvert_exporter": "python",
   "pygments_lexer": "ipython3",
   "version": "3.8.3-final"
  }
 },
 "nbformat": 4,
 "nbformat_minor": 4
}